{
 "cells": [
  {
   "cell_type": "code",
   "execution_count": 56,
   "metadata": {},
   "outputs": [
    {
     "data": {
      "text/plain": [
       "Index(['Company Names', 'Cars Names', 'Engines', 'CC/Battery Capacity',\n",
       "       'HorsePower', 'Total Speed', 'Performance(0 - 100 )KM/H', 'Cars Prices',\n",
       "       'Fuel Types', 'Seats', 'Torque'],\n",
       "      dtype='object')"
      ]
     },
     "metadata": {},
     "output_type": "display_data"
    },
    {
     "data": {
      "text/html": [
       "<div>\n",
       "<style scoped>\n",
       "    .dataframe tbody tr th:only-of-type {\n",
       "        vertical-align: middle;\n",
       "    }\n",
       "\n",
       "    .dataframe tbody tr th {\n",
       "        vertical-align: top;\n",
       "    }\n",
       "\n",
       "    .dataframe thead th {\n",
       "        text-align: right;\n",
       "    }\n",
       "</style>\n",
       "<table border=\"1\" class=\"dataframe\">\n",
       "  <thead>\n",
       "    <tr style=\"text-align: right;\">\n",
       "      <th></th>\n",
       "      <th>Company Names</th>\n",
       "      <th>Cars Names</th>\n",
       "      <th>Engines</th>\n",
       "      <th>CC/Battery Capacity</th>\n",
       "      <th>HorsePower</th>\n",
       "      <th>Total Speed</th>\n",
       "      <th>Performance(0 - 100 )KM/H</th>\n",
       "      <th>Cars Prices</th>\n",
       "      <th>Fuel Types</th>\n",
       "      <th>Seats</th>\n",
       "      <th>Torque</th>\n",
       "    </tr>\n",
       "  </thead>\n",
       "  <tbody>\n",
       "    <tr>\n",
       "      <th>0</th>\n",
       "      <td>FERRARI</td>\n",
       "      <td>SF90 STRADALE</td>\n",
       "      <td>V8</td>\n",
       "      <td>3990 cc</td>\n",
       "      <td>963 hp</td>\n",
       "      <td>340 km/h</td>\n",
       "      <td>2.5 sec</td>\n",
       "      <td>$1,100,000</td>\n",
       "      <td>plug in hyrbrid</td>\n",
       "      <td>2</td>\n",
       "      <td>800 Nm</td>\n",
       "    </tr>\n",
       "    <tr>\n",
       "      <th>1</th>\n",
       "      <td>ROLLS ROYCE</td>\n",
       "      <td>PHANTOM</td>\n",
       "      <td>V12</td>\n",
       "      <td>6749 cc</td>\n",
       "      <td>563 hp</td>\n",
       "      <td>250 km/h</td>\n",
       "      <td>5.3 sec</td>\n",
       "      <td>$460,000</td>\n",
       "      <td>Petrol</td>\n",
       "      <td>5</td>\n",
       "      <td>900 Nm</td>\n",
       "    </tr>\n",
       "    <tr>\n",
       "      <th>2</th>\n",
       "      <td>Ford</td>\n",
       "      <td>KA+</td>\n",
       "      <td>1.2L Petrol</td>\n",
       "      <td>1,200 cc</td>\n",
       "      <td>70-85 hp</td>\n",
       "      <td>165 km/h</td>\n",
       "      <td>10.5 sec</td>\n",
       "      <td>$12,000-$15,000</td>\n",
       "      <td>Petrol</td>\n",
       "      <td>5</td>\n",
       "      <td>100 - 140 Nm</td>\n",
       "    </tr>\n",
       "    <tr>\n",
       "      <th>3</th>\n",
       "      <td>MERCEDES</td>\n",
       "      <td>GT 63 S</td>\n",
       "      <td>V8</td>\n",
       "      <td>3,982 cc</td>\n",
       "      <td>630 hp</td>\n",
       "      <td>250 km/h</td>\n",
       "      <td>3.2 sec</td>\n",
       "      <td>$161,000</td>\n",
       "      <td>Petrol</td>\n",
       "      <td>4</td>\n",
       "      <td>900 Nm</td>\n",
       "    </tr>\n",
       "    <tr>\n",
       "      <th>4</th>\n",
       "      <td>AUDI</td>\n",
       "      <td>AUDI R8 Gt</td>\n",
       "      <td>V10</td>\n",
       "      <td>5,204 cc</td>\n",
       "      <td>602 hp</td>\n",
       "      <td>320 km/h</td>\n",
       "      <td>3.6 sec</td>\n",
       "      <td>$253,290</td>\n",
       "      <td>Petrol</td>\n",
       "      <td>2</td>\n",
       "      <td>560 Nm</td>\n",
       "    </tr>\n",
       "  </tbody>\n",
       "</table>\n",
       "</div>"
      ],
      "text/plain": [
       "  Company Names     Cars Names      Engines CC/Battery Capacity HorsePower  \\\n",
       "0       FERRARI  SF90 STRADALE           V8             3990 cc     963 hp   \n",
       "1   ROLLS ROYCE        PHANTOM          V12             6749 cc     563 hp   \n",
       "2          Ford            KA+  1.2L Petrol            1,200 cc   70-85 hp   \n",
       "3      MERCEDES        GT 63 S           V8            3,982 cc     630 hp   \n",
       "4          AUDI     AUDI R8 Gt          V10            5,204 cc     602 hp   \n",
       "\n",
       "  Total Speed Performance(0 - 100 )KM/H      Cars Prices       Fuel Types  \\\n",
       "0    340 km/h                   2.5 sec      $1,100,000   plug in hyrbrid   \n",
       "1    250 km/h                   5.3 sec        $460,000            Petrol   \n",
       "2    165 km/h                  10.5 sec  $12,000-$15,000           Petrol   \n",
       "3    250 km/h                   3.2 sec        $161,000            Petrol   \n",
       "4    320 km/h                   3.6 sec        $253,290            Petrol   \n",
       "\n",
       "  Seats        Torque  \n",
       "0     2        800 Nm  \n",
       "1     5        900 Nm  \n",
       "2     5  100 - 140 Nm  \n",
       "3     4        900 Nm  \n",
       "4     2        560 Nm  "
      ]
     },
     "metadata": {},
     "output_type": "display_data"
    }
   ],
   "source": [
    "# Import necessary libraries\n",
    "import pandas as pd\n",
    "import seaborn as sns\n",
    "import matplotlib.pyplot as plt\n",
    "import numpy as np\n",
    "\n",
    "# Load the Titanic dataset. Replace 'titanic.csv' with your own dataset file for your project.\n",
    "# Ensure the dataset file exists and is in the same directory as this jupyter notebook.\n",
    "df = pd.read_csv('cars.csv')\n",
    "\n",
    "# Display the first few rows of the dataframe to ensure it is loaded correctly\n",
    "display(df.columns)\n",
    "display(df.head())"
   ]
  },
  {
   "cell_type": "markdown",
   "metadata": {},
   "source": [
    "Question 1:\n",
    "\n",
    "What are the Top 5 Companies possessing the most car models in the dataset?"
   ]
  },
  {
   "cell_type": "code",
   "execution_count": 57,
   "metadata": {},
   "outputs": [
    {
     "data": {
      "text/plain": [
       "Company Names\n",
       "Nissan        149\n",
       "Volkswagen    109\n",
       "Porsche        96\n",
       "Mazda          87\n",
       "Mitsubishi     60\n",
       "Name: count, dtype: int64"
      ]
     },
     "metadata": {},
     "output_type": "display_data"
    }
   ],
   "source": [
    "\n",
    "mostcars_top5 = df['Company Names'].value_counts().head(5)\n",
    "\n",
    "display(mostcars_top5)"
   ]
  },
  {
   "cell_type": "markdown",
   "metadata": {},
   "source": [
    "Question 2\n",
    "\n",
    "What is the average horsepower for each fuel type\n"
   ]
  },
  {
   "cell_type": "code",
   "execution_count": 58,
   "metadata": {},
   "outputs": [
    {
     "data": {
      "text/plain": [
       "Fuel Types\n",
       "CNG/Petrol                  86.000000\n",
       "Diesel                     227.136792\n",
       "Diesel Hybrid              150.000000\n",
       "Diesel/Petrol              111.625000\n",
       "Electric                   366.411111\n",
       "Gas / Hybrid                      NaN\n",
       "Hybrid                     320.089744\n",
       "Hybrid (Gas + Electric)    240.000000\n",
       "Hybrid (Petrol)            567.500000\n",
       "Hybrid / Plug-in                  NaN\n",
       "Hybrid/Electric            139.000000\n",
       "Hybrid/Petrol              220.500000\n",
       "Hydrogen                   154.666667\n",
       "Petrol                     311.680253\n",
       "Petrol (Hybrid)                   NaN\n",
       "Petrol, Diesel             225.500000\n",
       "Petrol, Hybrid             187.000000\n",
       "Petrol/AWD                 213.500000\n",
       "Petrol/Diesel              220.875000\n",
       "Petrol/EV                  147.000000\n",
       "Petrol/Hybrid              190.968750\n",
       "Plug-in Hybrid             265.600000\n",
       "plug in hyrbrid            963.000000\n",
       "Name: HorsePower, dtype: float64"
      ]
     },
     "metadata": {},
     "output_type": "display_data"
    }
   ],
   "source": [
    "def cleaner(value):\n",
    "    value = str(value).strip().lower()\n",
    "    \n",
    "    if value in ['nan', 'none', '']:\n",
    "        return np.nan\n",
    "    \n",
    "    value = value.replace('$', '').replace(',', '').replace(' hp', '').replace(' cc', '')\n",
    "    \n",
    "    if any(sep in value for sep in ['-', '/']):\n",
    "        for sep in ['-', '/']:\n",
    "            if sep in value:\n",
    "                parts = value.split(sep)\n",
    "                try:\n",
    "                    low = float(parts[0])\n",
    "                    high = float(parts[1])\n",
    "                    return (low + high) / 2\n",
    "                except (ValueError, IndexError):\n",
    "                    return np.nan\n",
    "    \n",
    "    try:\n",
    "        return float(value)\n",
    "    except ValueError:\n",
    "        return np.nan \n",
    "    \n",
    "    # Handle regular numeric values\n",
    "    try:\n",
    "        return float(value)\n",
    "    except (ValueError, TypeError):\n",
    "        # Return NaN for any other invalid strings\n",
    "        return np.nan\n",
    "\n",
    "df['HorsePower'] = df['HorsePower'].apply(cleaner)\n",
    "\n",
    "\n",
    "average_hp_fuel = df.groupby('Fuel Types')['HorsePower'].mean()\n",
    "\n",
    "display(average_hp_fuel)"
   ]
  },
  {
   "cell_type": "markdown",
   "metadata": {},
   "source": [
    "Question 3\n",
    "\n",
    "What is the most expensive car in the dataset, and what are its specifications?"
   ]
  },
  {
   "cell_type": "code",
   "execution_count": 59,
   "metadata": {},
   "outputs": [
    {
     "name": "stdout",
     "output_type": "stream",
     "text": [
      "Company Names                            Bugatti\n",
      "Cars Names                      La Voiture Noire\n",
      "Engines                      8.0L Quad-Turbo W16\n",
      "CC/Battery Capacity                      7993 cc\n",
      "HorsePower                                1500.0\n",
      "Total Speed                             420 km/h\n",
      "Performance(0 - 100 )KM/H                2.5 sec\n",
      "Cars Prices                           18000000.0\n",
      "Fuel Types                                Petrol\n",
      "Seats                                          2\n",
      "Torque                                   1600 Nm\n",
      "Name: 887, dtype: object\n"
     ]
    }
   ],
   "source": [
    "\n",
    "# Clean the 'Cars Prices' column by removing '$', ',', and then use the function\n",
    "df['Cars Prices'] = df['Cars Prices'].str.replace('$', '', regex=False).str.replace(',', '', regex=False).apply(cleaner)\n",
    "\n",
    "most_expensive_car_index = df['Cars Prices'].idxmax()\n",
    "most_expensive_car = df.loc[most_expensive_car_index]\n",
    "\n",
    "print(most_expensive_car)"
   ]
  },
  {
   "cell_type": "markdown",
   "metadata": {},
   "source": [
    "Question 4\n",
    "\n",
    "How many cars are electric or hybrid, and what is their average 0-100 km/h acceleration?"
   ]
  },
  {
   "cell_type": "code",
   "execution_count": 60,
   "metadata": {},
   "outputs": [
    {
     "name": "stdout",
     "output_type": "stream",
     "text": [
      "Number of electric/hybrid cars: 210\n",
      "Average 0-100 km/h acceleration: 4.20 seconds\n"
     ]
    }
   ],
   "source": [
    "\n",
    "# Use the same removecharacter function to clean the column\n",
    "df['Performance(0 - 100 )KM/H'] = df['Performance(0 - 100 )KM/H'].apply(cleaner)\n",
    "\n",
    "\n",
    "ev_hybrid_cars = df[df['Fuel Types'].str.contains('electric|hybrid', case=False, na=False)]\n",
    "num_ev_hybrid = len(ev_hybrid_cars)\n",
    "avg_accel = ev_hybrid_cars['Performance(0 - 100 )KM/H'].mean()\n",
    "\n",
    "print(f\"Number of electric/hybrid cars: {num_ev_hybrid}\")\n",
    "print(f\"Average 0-100 km/h acceleration: {avg_accel:.2f} seconds\")"
   ]
  },
  {
   "cell_type": "markdown",
   "metadata": {},
   "source": [
    "Question 5\n",
    "\n",
    "Average Car Price per Company"
   ]
  },
  {
   "cell_type": "code",
   "execution_count": 61,
   "metadata": {},
   "outputs": [
    {
     "name": "stdout",
     "output_type": "stream",
     "text": [
      "Company Names\n",
      "ASTON MARTIN         7.529491e+05\n",
      "AUDI                 8.287095e+04\n",
      "Acura                6.325926e+04\n",
      "BENTLEY              3.110000e+05\n",
      "BMW                  6.731707e+04\n",
      "Bugatti              5.870000e+06\n",
      "Cadillac             6.217850e+04\n",
      "Chevrolet            4.496293e+04\n",
      "FERRARI              5.122222e+05\n",
      "Ford                 5.345769e+04\n",
      "GMC                  6.329347e+04\n",
      "HONDA                2.936429e+04\n",
      "HYUNDAI              3.149561e+04\n",
      "Jaguar Land Rover    7.212500e+04\n",
      "Jeep                 5.143921e+04\n",
      "KIA                  3.409375e+04\n",
      "KIA                  2.650000e+04\n",
      "Kia                  3.675926e+04\n",
      "LAMBORGHINI          6.500833e+05\n",
      "MAHINDRA             1.840000e+04\n",
      "MARUTI SUZUKI        1.206667e+04\n",
      "MERCEDES             8.419048e+04\n",
      "Mazda                9.382558e+04\n",
      "Mitsubishi           2.885000e+04\n",
      "NISSAN               3.960000e+04\n",
      "Nissan               6.050966e+04\n",
      "Peugeot              3.541667e+04\n",
      "Porsche              1.383896e+05\n",
      "ROLLS ROYCE          3.924138e+05\n",
      "ROLLS ROYCE          3.320000e+05\n",
      "TOYOTA               4.286522e+04\n",
      "Tata Motors          1.245517e+04\n",
      "Tesla                8.703200e+04\n",
      "Toyota               5.000000e+04\n",
      "VOLVO                5.833333e+04\n",
      "Volkswagen           3.630124e+04\n",
      "Volvo                1.100000e+05\n",
      "Name: Cars Prices, dtype: float64\n"
     ]
    }
   ],
   "source": [
    "\n",
    "# Clean the 'Cars Prices' column\n",
    "df['Cars Prices'] = df['Cars Prices'].apply(removeweirdcharacters)\n",
    "\n",
    "# Calculate the average price by company\n",
    "average_price_by_company = df.groupby('Company Names')['Cars Prices'].mean()\n",
    "\n",
    "print(average_price_by_company)"
   ]
  },
  {
   "cell_type": "markdown",
   "metadata": {},
   "source": [
    "Question 6\n",
    "\n",
    "What are the top fastest accelerating cars (based on mph)"
   ]
  },
  {
   "cell_type": "code",
   "execution_count": 62,
   "metadata": {},
   "outputs": [
    {
     "data": {
      "text/html": [
       "<div>\n",
       "<style scoped>\n",
       "    .dataframe tbody tr th:only-of-type {\n",
       "        vertical-align: middle;\n",
       "    }\n",
       "\n",
       "    .dataframe tbody tr th {\n",
       "        vertical-align: top;\n",
       "    }\n",
       "\n",
       "    .dataframe thead th {\n",
       "        text-align: right;\n",
       "    }\n",
       "</style>\n",
       "<table border=\"1\" class=\"dataframe\">\n",
       "  <thead>\n",
       "    <tr style=\"text-align: right;\">\n",
       "      <th></th>\n",
       "      <th>Company Names</th>\n",
       "      <th>Cars Names</th>\n",
       "      <th>Performance(0 - 100 )KM/H</th>\n",
       "    </tr>\n",
       "  </thead>\n",
       "  <tbody>\n",
       "    <tr>\n",
       "      <th>554</th>\n",
       "      <td>Porsche</td>\n",
       "      <td>911 Turbo S</td>\n",
       "      <td>2.6</td>\n",
       "    </tr>\n",
       "    <tr>\n",
       "      <th>553</th>\n",
       "      <td>Porsche</td>\n",
       "      <td>911 Turbo</td>\n",
       "      <td>2.7</td>\n",
       "    </tr>\n",
       "    <tr>\n",
       "      <th>561</th>\n",
       "      <td>Porsche</td>\n",
       "      <td>Taycan Turbo S</td>\n",
       "      <td>2.8</td>\n",
       "    </tr>\n",
       "  </tbody>\n",
       "</table>\n",
       "</div>"
      ],
      "text/plain": [
       "    Company Names      Cars Names  Performance(0 - 100 )KM/H\n",
       "554       Porsche     911 Turbo S                        2.6\n",
       "553       Porsche       911 Turbo                        2.7\n",
       "561       Porsche  Taycan Turbo S                        2.8"
      ]
     },
     "metadata": {},
     "output_type": "display_data"
    }
   ],
   "source": [
    "df['Performance(0 - 100 )KM/H'] = df['Performance(0 - 100 )KM/H'].apply(cleaner)\n",
    "fastest_cars = df.sort_values(by='Performance(0 - 100 )KM/H').head(3)\n",
    "display(fastest_cars[['Company Names', 'Cars Names', 'Performance(0 - 100 )KM/H']])\n"
   ]
  },
  {
   "cell_type": "markdown",
   "metadata": {},
   "source": [
    "Question 7\n",
    "\n",
    "Horsepower to Price Comparison"
   ]
  },
  {
   "cell_type": "code",
   "execution_count": 63,
   "metadata": {},
   "outputs": [
    {
     "data": {
      "text/html": [
       "<div>\n",
       "<style scoped>\n",
       "    .dataframe tbody tr th:only-of-type {\n",
       "        vertical-align: middle;\n",
       "    }\n",
       "\n",
       "    .dataframe tbody tr th {\n",
       "        vertical-align: top;\n",
       "    }\n",
       "\n",
       "    .dataframe thead th {\n",
       "        text-align: right;\n",
       "    }\n",
       "</style>\n",
       "<table border=\"1\" class=\"dataframe\">\n",
       "  <thead>\n",
       "    <tr style=\"text-align: right;\">\n",
       "      <th></th>\n",
       "      <th>HorsePower</th>\n",
       "      <th>Cars Prices</th>\n",
       "    </tr>\n",
       "  </thead>\n",
       "  <tbody>\n",
       "    <tr>\n",
       "      <th>HorsePower</th>\n",
       "      <td>1.000000</td>\n",
       "      <td>0.516437</td>\n",
       "    </tr>\n",
       "    <tr>\n",
       "      <th>Cars Prices</th>\n",
       "      <td>0.516437</td>\n",
       "      <td>1.000000</td>\n",
       "    </tr>\n",
       "  </tbody>\n",
       "</table>\n",
       "</div>"
      ],
      "text/plain": [
       "             HorsePower  Cars Prices\n",
       "HorsePower     1.000000     0.516437\n",
       "Cars Prices    0.516437     1.000000"
      ]
     },
     "metadata": {},
     "output_type": "display_data"
    }
   ],
   "source": [
    "df['HorsePower'] = df['HorsePower'].apply(cleaner)\n",
    "df['Cars Prices'] = df['Cars Prices'].apply(cleaner)\n",
    "correlation = df[['HorsePower', 'Cars Prices']].corr()\n",
    "display(correlation)"
   ]
  },
  {
   "cell_type": "markdown",
   "metadata": {},
   "source": [
    "Question 8\n",
    "\n",
    "What is the distribution of Seats across all car models?\n"
   ]
  },
  {
   "cell_type": "code",
   "execution_count": 64,
   "metadata": {},
   "outputs": [
    {
     "data": {
      "text/plain": [
       "Seats\n",
       "5.0     692\n",
       "4.0     161\n",
       "7.0     147\n",
       "2.0     136\n",
       "8.0      29\n",
       "6.0      20\n",
       "3.0      14\n",
       "1.0       3\n",
       "20.0      1\n",
       "15.0      1\n",
       "12.0      1\n",
       "9.0       1\n",
       "Name: count, dtype: int64"
      ]
     },
     "metadata": {},
     "output_type": "display_data"
    }
   ],
   "source": [
    "df['Seats'] = df['Seats'].apply(cleaner)\n",
    "seating_distribution = df['Seats'].value_counts()\n",
    "display(seating_distribution)"
   ]
  },
  {
   "cell_type": "markdown",
   "metadata": {},
   "source": [
    "Question 9\n",
    "\n",
    "Which Car Name has the highest Speed for each Company?"
   ]
  },
  {
   "cell_type": "code",
   "execution_count": null,
   "metadata": {},
   "outputs": [],
   "source": []
  },
  {
   "cell_type": "markdown",
   "metadata": {},
   "source": [
    "Question 10\n",
    "\n",
    "What are the three most common Engine types in the dataset?"
   ]
  },
  {
   "cell_type": "code",
   "execution_count": 66,
   "metadata": {},
   "outputs": [
    {
     "data": {
      "text/plain": [
       "Engines\n",
       "I4     64\n",
       "V12    51\n",
       "V6     39\n",
       "Name: count, dtype: int64"
      ]
     },
     "metadata": {},
     "output_type": "display_data"
    }
   ],
   "source": [
    "top_3_engines = df['Engines'].value_counts().head(3)\n",
    "display(top_3_engines)"
   ]
  }
 ],
 "metadata": {
  "kernelspec": {
   "display_name": "Python 3",
   "language": "python",
   "name": "python3"
  },
  "language_info": {
   "codemirror_mode": {
    "name": "ipython",
    "version": 3
   },
   "file_extension": ".py",
   "mimetype": "text/x-python",
   "name": "python",
   "nbconvert_exporter": "python",
   "pygments_lexer": "ipython3",
   "version": "3.11.1"
  }
 },
 "nbformat": 4,
 "nbformat_minor": 2
}
